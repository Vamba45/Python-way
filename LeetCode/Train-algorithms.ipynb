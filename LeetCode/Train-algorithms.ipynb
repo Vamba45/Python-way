{
 "cells": [
  {
   "cell_type": "markdown",
   "id": "61f65572",
   "metadata": {},
   "source": [
    "2. Add Two Numbers\n",
    "\n",
    "You are given two non-empty linked lists representing two non-negative integers. The digits are stored in reverse order, and each of their nodes contains a single digit. Add the two numbers and return the sum as a linked list.\n",
    "\n",
    "You may assume the two numbers do not contain any leading zero, except the number 0 itself.\n",
    "\n",
    "Input: l1 = [2,4,3], l2 = [5,6,4]\n",
    "Output: [7,0,8]\n",
    "Explanation: 342 + 465 = 807."
   ]
  },
  {
   "cell_type": "code",
   "execution_count": 1,
   "id": "f5684ab5",
   "metadata": {},
   "outputs": [
    {
     "name": "stdout",
     "output_type": "stream",
     "text": [
      "2 4 3\n",
      "5 6 4\n"
     ]
    }
   ],
   "source": [
    "l1 = input().replace(' ', '')\n",
    "l2 = input().replace(' ', '')"
   ]
  },
  {
   "cell_type": "code",
   "execution_count": 2,
   "id": "2a4fe902",
   "metadata": {},
   "outputs": [
    {
     "name": "stdout",
     "output_type": "stream",
     "text": [
      "708\n"
     ]
    }
   ],
   "source": [
    "print(  str(int(l1) + int(l2))[::-1]  )"
   ]
  },
  {
   "cell_type": "code",
   "execution_count": null,
   "id": "8d45135a",
   "metadata": {},
   "outputs": [],
   "source": []
  }
 ],
 "metadata": {
  "kernelspec": {
   "display_name": "Python 3 (ipykernel)",
   "language": "python",
   "name": "python3"
  },
  "language_info": {
   "codemirror_mode": {
    "name": "ipython",
    "version": 3
   },
   "file_extension": ".py",
   "mimetype": "text/x-python",
   "name": "python",
   "nbconvert_exporter": "python",
   "pygments_lexer": "ipython3",
   "version": "3.9.13"
  }
 },
 "nbformat": 4,
 "nbformat_minor": 5
}
