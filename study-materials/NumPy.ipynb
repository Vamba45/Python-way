{
 "cells": [
  {
   "cell_type": "code",
   "execution_count": 1,
   "id": "1d53fac9",
   "metadata": {},
   "outputs": [],
   "source": [
    "import numpy as np"
   ]
  },
  {
   "cell_type": "code",
   "execution_count": 2,
   "id": "b420c18f",
   "metadata": {},
   "outputs": [
    {
     "data": {
      "text/plain": [
       "array([10, 12])"
      ]
     },
     "execution_count": 2,
     "metadata": {},
     "output_type": "execute_result"
    }
   ],
   "source": [
    "one_dimensional_arr = np.array([10, 12])\n",
    "one_dimensional_arr"
   ]
  },
  {
   "cell_type": "code",
   "execution_count": 3,
   "id": "e61eb767",
   "metadata": {},
   "outputs": [
    {
     "data": {
      "text/plain": [
       "array([0, 1, 2])"
      ]
     },
     "execution_count": 3,
     "metadata": {},
     "output_type": "execute_result"
    }
   ],
   "source": [
    "b = np.arange(3)\n",
    "b"
   ]
  },
  {
   "cell_type": "markdown",
   "id": "126ca6a2",
   "metadata": {},
   "source": [
    "shift + tab - allows to access the documentation of any function"
   ]
  },
  {
   "cell_type": "code",
   "execution_count": 4,
   "id": "ece4022c",
   "metadata": {},
   "outputs": [
    {
     "data": {
      "text/plain": [
       "array([ 1.,  4.,  7., 10., 13., 16., 19.])"
      ]
     },
     "execution_count": 4,
     "metadata": {},
     "output_type": "execute_result"
    }
   ],
   "source": [
    "c = np.arange(1, 20, 3, dtype=float)\n",
    "c"
   ]
  },
  {
   "cell_type": "code",
   "execution_count": 5,
   "id": "3b7d84c1",
   "metadata": {},
   "outputs": [
    {
     "data": {
      "text/plain": [
       "array([  0,  25,  50,  75, 100])"
      ]
     },
     "execution_count": 5,
     "metadata": {},
     "output_type": "execute_result"
    }
   ],
   "source": [
    "d = np.linspace(0, 100, 5, dtype=int)\n",
    "d"
   ]
  },
  {
   "cell_type": "code",
   "execution_count": 6,
   "id": "f2b3386f",
   "metadata": {},
   "outputs": [
    {
     "data": {
      "text/plain": [
       "array(['Numpy is awesome'], dtype='<U16')"
      ]
     },
     "execution_count": 6,
     "metadata": {},
     "output_type": "execute_result"
    }
   ],
   "source": [
    "char_arr = np.array(['Numpy is awesome'])\n",
    "char_arr"
   ]
  },
  {
   "cell_type": "code",
   "execution_count": 7,
   "id": "9e302b2a",
   "metadata": {},
   "outputs": [
    {
     "data": {
      "text/plain": [
       "array([1, 1, 1])"
      ]
     },
     "execution_count": 7,
     "metadata": {},
     "output_type": "execute_result"
    }
   ],
   "source": [
    "ones_arr = np.ones(3, dtype=int)\n",
    "ones_arr"
   ]
  },
  {
   "cell_type": "code",
   "execution_count": 8,
   "id": "e249141f",
   "metadata": {},
   "outputs": [
    {
     "data": {
      "text/plain": [
       "array([0, 0, 0])"
      ]
     },
     "execution_count": 8,
     "metadata": {},
     "output_type": "execute_result"
    }
   ],
   "source": [
    "zeros_arr = np.zeros(3, dtype=int)\n",
    "zeros_arr"
   ]
  },
  {
   "cell_type": "code",
   "execution_count": 9,
   "id": "6446a986",
   "metadata": {},
   "outputs": [
    {
     "data": {
      "text/plain": [
       "array([4456521, 5111877, 4784212])"
      ]
     },
     "execution_count": 9,
     "metadata": {},
     "output_type": "execute_result"
    }
   ],
   "source": [
    "empty_arr = np.empty(3, dtype=int)\n",
    "empty_arr"
   ]
  },
  {
   "cell_type": "code",
   "execution_count": 10,
   "id": "41e89f08",
   "metadata": {},
   "outputs": [
    {
     "data": {
      "text/plain": [
       "array([0.68832217, 0.75788813, 0.15718337])"
      ]
     },
     "execution_count": 10,
     "metadata": {},
     "output_type": "execute_result"
    }
   ],
   "source": [
    "rand_arr = np.random.rand(3)\n",
    "rand_arr"
   ]
  },
  {
   "cell_type": "markdown",
   "id": "3f116169",
   "metadata": {},
   "source": [
    "Multidimensional arrays"
   ]
  },
  {
   "cell_type": "code",
   "execution_count": 11,
   "id": "b778429f",
   "metadata": {},
   "outputs": [
    {
     "data": {
      "text/plain": [
       "array([[1, 2, 3],\n",
       "       [6, 5, 4]])"
      ]
     },
     "execution_count": 11,
     "metadata": {},
     "output_type": "execute_result"
    }
   ],
   "source": [
    "two_dim_arr = np.array([[1, 2, 3], [6, 5, 4]])\n",
    "two_dim_arr"
   ]
  },
  {
   "cell_type": "code",
   "execution_count": 12,
   "id": "2ac918e7",
   "metadata": {},
   "outputs": [
    {
     "name": "stdout",
     "output_type": "stream",
     "text": [
      "[1 2 3 4 5 6 7 8 9]\n",
      "[[[1 2 3]]\n",
      "\n",
      " [[4 5 6]]\n",
      "\n",
      " [[7 8 9]]]\n"
     ]
    }
   ],
   "source": [
    "one_dim_arr = np.array([1, 2, 3, 4, 5, 6, 7, 8, 9])\n",
    "\n",
    "print(one_dim_arr)\n",
    "\n",
    "multi_dim_arr = np.reshape(one_dim_arr, (3, 1, 3))\n",
    "\n",
    "print(multi_dim_arr)"
   ]
  },
  {
   "cell_type": "markdown",
   "id": "58fda014",
   "metadata": {},
   "source": [
    "Finding size, shape and dimension"
   ]
  },
  {
   "cell_type": "code",
   "execution_count": 13,
   "id": "64c66092",
   "metadata": {},
   "outputs": [
    {
     "data": {
      "text/plain": [
       "3"
      ]
     },
     "execution_count": 13,
     "metadata": {},
     "output_type": "execute_result"
    }
   ],
   "source": [
    "multi_dim_arr.ndim"
   ]
  },
  {
   "cell_type": "code",
   "execution_count": 14,
   "id": "961c3d0e",
   "metadata": {},
   "outputs": [
    {
     "data": {
      "text/plain": [
       "(3, 1, 3)"
      ]
     },
     "execution_count": 14,
     "metadata": {},
     "output_type": "execute_result"
    }
   ],
   "source": [
    "multi_dim_arr.shape"
   ]
  },
  {
   "cell_type": "code",
   "execution_count": 15,
   "id": "9cea0811",
   "metadata": {},
   "outputs": [
    {
     "data": {
      "text/plain": [
       "9"
      ]
     },
     "execution_count": 15,
     "metadata": {},
     "output_type": "execute_result"
    }
   ],
   "source": [
    "multi_dim_arr.size"
   ]
  },
  {
   "cell_type": "markdown",
   "id": "f34ebfdf",
   "metadata": {},
   "source": [
    "Array math operations"
   ]
  },
  {
   "cell_type": "code",
   "execution_count": 16,
   "id": "22ad7422",
   "metadata": {},
   "outputs": [
    {
     "name": "stdout",
     "output_type": "stream",
     "text": [
      "[ 3  9 11]\n",
      "[ 1 -1  1]\n",
      "[ 2 20 30]\n",
      "[2.  0.8 1.2]\n",
      "[0 4 1]\n",
      "[2 0 1]\n"
     ]
    }
   ],
   "source": [
    "arr_1 = np.array([2, 4, 6])\n",
    "arr_2 = np.array([1, 5, 5])\n",
    "\n",
    "addition = arr_1 + arr_2\n",
    "print(addition)\n",
    "\n",
    "subtraction = arr_1 - arr_2\n",
    "print(subtraction)\n",
    "\n",
    "multiplication = arr_1 * arr_2\n",
    "print(multiplication)\n",
    "\n",
    "division = arr_1 / arr_2\n",
    "print(division)\n",
    "\n",
    "division = arr_1 % arr_2\n",
    "print(division)\n",
    "\n",
    "division = arr_1 // arr_2\n",
    "print(division)"
   ]
  },
  {
   "cell_type": "markdown",
   "id": "94bed161",
   "metadata": {},
   "source": [
    "Operations with scalar"
   ]
  },
  {
   "cell_type": "code",
   "execution_count": 17,
   "id": "a1bcb804",
   "metadata": {},
   "outputs": [
    {
     "name": "stdout",
     "output_type": "stream",
     "text": [
      "[ 1.6  3.2  4.8  6.4  8.   9.6 11.2 12.8 14.4 16.  17.6] [ 2.6  3.6  4.6  5.6  6.6  7.6  8.6  9.6 10.6 11.6 12.6] [-0.6  0.4  1.4  2.4  3.4  4.4  5.4  6.4  7.4  8.4  9.4] [0.625 1.25  1.875 2.5   3.125 3.75  4.375 5.    5.625 6.25  6.875] [0 1 1 2 2 3 3 4 4 5 5] [1 0 1 0 1 0 1 0 1 0 1]\n"
     ]
    }
   ],
   "source": [
    "vector = np.array([1, 2, 3, 4, 5, 6, 7, 8, 9, 10, 11])\n",
    "print(vector * 1.6, vector + 1.6, \n",
    "      vector - 1.6, vector / 1.6,\n",
    "      vector // 2, vector % 2)"
   ]
  },
  {
   "cell_type": "markdown",
   "id": "c88f1665",
   "metadata": {},
   "source": [
    "Indexing and slicing"
   ]
  },
  {
   "cell_type": "code",
   "execution_count": 18,
   "id": "21ed34f2",
   "metadata": {},
   "outputs": [
    {
     "name": "stdout",
     "output_type": "stream",
     "text": [
      "1 [5 6 7 8]\n"
     ]
    }
   ],
   "source": [
    "print(vector[0], vector[4:8])"
   ]
  },
  {
   "cell_type": "code",
   "execution_count": 19,
   "id": "53b71ae1",
   "metadata": {},
   "outputs": [],
   "source": [
    "two_dim = np.array([[1, 2, 3],\n",
    "                    [4, 5, 6],\n",
    "                    [7, 8, 9]])"
   ]
  },
  {
   "cell_type": "code",
   "execution_count": 20,
   "id": "381a8ef9",
   "metadata": {},
   "outputs": [
    {
     "data": {
      "text/plain": [
       "array([[2, 3],\n",
       "       [5, 6],\n",
       "       [8, 9]])"
      ]
     },
     "execution_count": 20,
     "metadata": {},
     "output_type": "execute_result"
    }
   ],
   "source": [
    "two_dim[:, 1:3]"
   ]
  },
  {
   "cell_type": "markdown",
   "id": "6824d679",
   "metadata": {},
   "source": [
    "Stacking"
   ]
  },
  {
   "cell_type": "code",
   "execution_count": 21,
   "id": "b645937b",
   "metadata": {},
   "outputs": [
    {
     "data": {
      "text/plain": [
       "array([[1, 1],\n",
       "       [2, 3],\n",
       "       [4, 5],\n",
       "       [6, 7]])"
      ]
     },
     "execution_count": 21,
     "metadata": {},
     "output_type": "execute_result"
    }
   ],
   "source": [
    "a1 = np.array([[1,1],\n",
    "               [2,3]])\n",
    "\n",
    "a2 = np.array([[4,5],\n",
    "               [6,7]])\n",
    "\n",
    "vert_stack = np.vstack([a1, a2])\n",
    "vert_stack"
   ]
  },
  {
   "cell_type": "code",
   "execution_count": 22,
   "id": "1899e2f3",
   "metadata": {},
   "outputs": [
    {
     "data": {
      "text/plain": [
       "array([[1, 1, 4, 5],\n",
       "       [2, 3, 6, 7]])"
      ]
     },
     "execution_count": 22,
     "metadata": {},
     "output_type": "execute_result"
    }
   ],
   "source": [
    "horiz_stack = np.hstack([a1, a2])\n",
    "horiz_stack"
   ]
  },
  {
   "cell_type": "markdown",
   "id": "128cdec2",
   "metadata": {},
   "source": [
    "Numpy 100 exercises"
   ]
  },
  {
   "cell_type": "code",
   "execution_count": null,
   "id": "9fa1da3a",
   "metadata": {},
   "outputs": [],
   "source": []
  }
 ],
 "metadata": {
  "kernelspec": {
   "display_name": "Python 3 (ipykernel)",
   "language": "python",
   "name": "python3"
  },
  "language_info": {
   "codemirror_mode": {
    "name": "ipython",
    "version": 3
   },
   "file_extension": ".py",
   "mimetype": "text/x-python",
   "name": "python",
   "nbconvert_exporter": "python",
   "pygments_lexer": "ipython3",
   "version": "3.9.13"
  }
 },
 "nbformat": 4,
 "nbformat_minor": 5
}
